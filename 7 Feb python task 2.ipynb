{
 "cells": [
  {
   "cell_type": "code",
   "execution_count": 3,
   "id": "8ecf163b-f18d-4a5e-85c3-27a32a05fcf5",
   "metadata": {},
   "outputs": [
    {
     "name": "stdin",
     "output_type": "stream",
     "text": [
      "Enter Password :  abAB1@#$kj\n"
     ]
    },
    {
     "name": "stdout",
     "output_type": "stream",
     "text": [
      "Vailid Password\n"
     ]
    }
   ],
   "source": [
    "# Q1. You are writing code for a company. The requirement of the company is that you create a python\n",
    "# function that will check whether the password entered by the user is correct or not. The function should\n",
    "# take the password as input and return the string “Valid Password” if the entered password follows the\n",
    "# below-given password guidelines else it should return “Invalid Password”.\n",
    "# Note: 1. The Password should contain at least two uppercase letters and at least two lowercase letters.\n",
    "# 2. The Password should contain at least a number and three special characters.\n",
    "# 3. The length of the password should be 10 characters long.\n",
    "\n",
    "# Ans: \n",
    "\n",
    "def check_password(password):\n",
    "    num_count = 0\n",
    "    special_char_count = 0\n",
    "    upper_count = 0\n",
    "    lower_count = 0\n",
    "    \n",
    "    for i in password:\n",
    "        if i.isupper():\n",
    "            upper_count = upper_count + 1\n",
    "        elif i.islower():\n",
    "            lower_count = lower_count + 1\n",
    "        elif i.isdigit():\n",
    "            num_count = num_count + 1\n",
    "        elif not(i.isalnum()):\n",
    "            special_char_count = special_char_count + 1\n",
    "    if num_count >= 1 and upper_count >= 2 and lower_count >= 2 and special_char_count >= 3 and len(password) >= 10:\n",
    "        print(\"Vailid Password\")\n",
    "    else:\n",
    "        print(\"Invailid Password\")\n",
    "password = input(\"Enter Password : \")\n",
    "check_password(password)"
   ]
  },
  {
   "cell_type": "code",
   "execution_count": null,
   "id": "27cff3d6-2783-46b6-b126-409fdd696c62",
   "metadata": {},
   "outputs": [],
   "source": [
    "# Q2. Solve the below-given questions using at least one of the following:\n",
    "# 1. Lambda function\n",
    "# 2. Filter function\n",
    "# 3. map function\n",
    "# 4. List Comprehension\n",
    "\n",
    "#  Check if the string starts with a particular letter\n",
    "#  Check if the string is numeric\n",
    "#  Sort a list of tuples having fruit names and their quantity. [(\"mango\",99),(\"orange\",80), (\"grapes\", 1000)]\n",
    "#  Find the squares of numbers from 1 to 10\n",
    "#  Find the cube root of numbers from 1 to 10\n",
    "#  Check if a given number is even\n",
    "#  Filter odd numbers from the given list.\n",
    "# [1,2,3,4,5,6,7,8,9,10]\n",
    "#  Sort a list of integers into positive and negative integers lists.\n",
    "# [1,2,3,4,5,6,-1,-2,-3,-4,-5,0]"
   ]
  },
  {
   "cell_type": "code",
   "execution_count": 4,
   "id": "7df7d525-6585-451d-b184-25e8b77f199b",
   "metadata": {},
   "outputs": [
    {
     "name": "stdin",
     "output_type": "stream",
     "text": [
      "Enter string :  abhi\n",
      "Enter first latter to check :  a\n"
     ]
    },
    {
     "data": {
      "text/plain": [
       "True"
      ]
     },
     "execution_count": 4,
     "metadata": {},
     "output_type": "execute_result"
    }
   ],
   "source": [
    "# Q.2.1: check if the string starts with a particulat letter\n",
    "\n",
    "string = input(\"Enter string : \")\n",
    "start_ltr = input(\"Enter first latter to check : \")\n",
    "start_with = lambda x,y : True if x.startswith(y) else False\n",
    "start_with(string,start_ltr)"
   ]
  },
  {
   "cell_type": "code",
   "execution_count": 5,
   "id": "0288cadf-913b-4380-8217-0d4f343fdbe6",
   "metadata": {},
   "outputs": [
    {
     "name": "stdin",
     "output_type": "stream",
     "text": [
      "Enter string : abhi16mar\n"
     ]
    },
    {
     "name": "stdout",
     "output_type": "stream",
     "text": [
      "method 1\n",
      "\n",
      "False\n",
      "\n",
      "Method 2\n",
      "\n",
      "The given string is not a numeric string\n"
     ]
    }
   ],
   "source": [
    "# Q.2.2: Check if the string is numeric\n",
    "\n",
    "string = input(\"Enter string :\")\n",
    "\n",
    "print(\"method 1\\n\")\n",
    "\n",
    "s_numeric = lambda x : True if x.isdigit() else False\n",
    "print(s_numeric(string))\n",
    "\n",
    "\n",
    "\n",
    "print(\"\\nMethod 2\\n\")\n",
    "\n",
    "def string_num(s):\n",
    "    s_split = \" \".join(s).split()\n",
    "    s_filter = \"\".join((filter(lambda x : x.isnumeric(), s_split)))\n",
    "\n",
    "    if len(s) == len(s_filter):\n",
    "        print(\"The given string is numeric\")\n",
    "    else:\n",
    "        print(\"The given string is not a numeric string\")\n",
    "string_num(string)"
   ]
  },
  {
   "cell_type": "code",
   "execution_count": 6,
   "id": "719232eb-2cce-4ab9-9d5b-dfa6d2bda949",
   "metadata": {},
   "outputs": [
    {
     "name": "stdout",
     "output_type": "stream",
     "text": [
      "Given list : [('mango', 99), ('orange', 80), ('grapes', 1000)]\n",
      "\n",
      "Sorted list : [('orange', 80), ('mango', 99), ('grapes', 1000)]\n"
     ]
    }
   ],
   "source": [
    "# Q.2.3: Sort a list of tuples having fruit names and their quantity. \n",
    "#            [(\"mango\",99),(\"orange\",80),(\"grapes\", 1000)]\n",
    "\n",
    "\n",
    "fruits = [(\"mango\",99),(\"orange\",80), (\"grapes\", 1000)]\n",
    "print(f\"Given list : {fruits}\\n\")\n",
    "sorted_fruits = sorted(fruits, key=lambda x: x[1])\n",
    "\n",
    "print(f\"Sorted list : {sorted_fruits}\")"
   ]
  },
  {
   "cell_type": "code",
   "execution_count": 7,
   "id": "a820ce46-ca21-414c-9ced-ab729a61c4b3",
   "metadata": {},
   "outputs": [
    {
     "name": "stdout",
     "output_type": "stream",
     "text": [
      "The square of numbers from 1 to 10 is : [1, 4, 9, 16, 25, 36, 49, 64, 81, 100]\n"
     ]
    }
   ],
   "source": [
    "# Q.2.4: Find the squares of numbers from 1 to 10\n",
    "\n",
    "\n",
    "l = list(range(1, 11))\n",
    "Result = list(map(lambda x: x**2 , l))\n",
    "print(f\"The square of numbers from 1 to 10 is : {Result}\")"
   ]
  },
  {
   "cell_type": "code",
   "execution_count": 12,
   "id": "dfdfcc6f-5ae3-4e5b-a6f7-fee91c14ceab",
   "metadata": {},
   "outputs": [
    {
     "name": "stdout",
     "output_type": "stream",
     "text": [
      "The squares of number from 1-10: [1, 4, 9, 16, 25, 36, 49, 64, 81, 100]\n"
     ]
    }
   ],
   "source": [
    "# Q.2.5: Find the cube root of numbers from 1 to 10\n",
    "\n",
    "num_square = list(map(lambda num : num ** 2, range(1,11)))\n",
    "print(f\"The squares of number from 1-10: {num_square}\")"
   ]
  },
  {
   "cell_type": "code",
   "execution_count": 13,
   "id": "bc5c2b31-be3e-4cc5-99ed-ca12bb5a1af7",
   "metadata": {},
   "outputs": [
    {
     "name": "stdin",
     "output_type": "stream",
     "text": [
      "Enter number : 4\n"
     ]
    },
    {
     "name": "stdout",
     "output_type": "stream",
     "text": [
      "4 is Even number\n"
     ]
    }
   ],
   "source": [
    "# Q.2.6: Check if a given number is even\n",
    "num = int(input(\"Enter number :\"))\n",
    "l = lambda x: True if x%2 ==0 else False\n",
    "print(f\"{num} is Even number\") if l(num) else print(f\"{num} is not a Even number\")"
   ]
  },
  {
   "cell_type": "code",
   "execution_count": 14,
   "id": "359c530f-0ca8-4b5d-9d85-355aaef84324",
   "metadata": {},
   "outputs": [
    {
     "name": "stdout",
     "output_type": "stream",
     "text": [
      "Given list : [1, 2, 3, 4, 5, 6, 7, 8, 9, 10]\n",
      "\n",
      "list of odd numbers : [1, 3, 5, 7, 9]\n"
     ]
    }
   ],
   "source": [
    "#Q.2.7: Filter odd numbers from the given list.\n",
    "#       [1,2,3,4,5,6,7,8,9,10]\n",
    "\n",
    "\n",
    "l = [1,2,3,4,5,6,7,8,9,10]\n",
    "print(f\"Given list : {l}\\n\")\n",
    "\n",
    "filtered_l = list(filter(lambda x: x%2 != 0, l))\n",
    "print(f\"list of odd numbers : {filtered_l}\")"
   ]
  },
  {
   "cell_type": "code",
   "execution_count": null,
   "id": "1bfde259-f04a-4658-946e-01639b09a9ea",
   "metadata": {},
   "outputs": [],
   "source": [
    "# Q.2.8: Sort a list of integers into positive and negative integers lists.\n",
    "#          [1,2,3,4,5,6,-1,-2,-3,-4,-5,0]\n",
    "\n",
    "l = [1,2,3,4,5,6,-1,-2,-3,-4,-5,0]\n",
    "print(f\"Given list : {l}\")\n",
    "Positive_list = list(filter(lambda x: x>0 , l))\n",
    "Nagative_list = list(filter(lambda x: x<0 , l))\n",
    "print(f\"Positive list : {Positive_list}\")\n",
    "print(f\"Nagative list : {Nagative_list}\")"
   ]
  },
  {
   "cell_type": "code",
   "execution_count": null,
   "id": "df9c905e-032e-4969-bc3b-9965ea17ba6e",
   "metadata": {},
   "outputs": [],
   "source": []
  }
 ],
 "metadata": {
  "kernelspec": {
   "display_name": "Python 3 (ipykernel)",
   "language": "python",
   "name": "python3"
  },
  "language_info": {
   "codemirror_mode": {
    "name": "ipython",
    "version": 3
   },
   "file_extension": ".py",
   "mimetype": "text/x-python",
   "name": "python",
   "nbconvert_exporter": "python",
   "pygments_lexer": "ipython3",
   "version": "3.10.8"
  }
 },
 "nbformat": 4,
 "nbformat_minor": 5
}
